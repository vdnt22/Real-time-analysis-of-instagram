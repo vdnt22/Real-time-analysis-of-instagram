{
 "cells": [
  {
   "cell_type": "code",
   "execution_count": 1,
   "id": "8f3d592d",
   "metadata": {},
   "outputs": [],
   "source": [
    "from urllib.parse import urlparse,urlencode\n",
    "import ipaddress\n",
    "import re"
   ]
  },
  {
   "cell_type": "code",
   "execution_count": 2,
   "id": "745d65b9",
   "metadata": {},
   "outputs": [],
   "source": [
    "#Checks for IP address in URL (Have_IP)\n",
    "def havingIP(url):\n",
    "  try:\n",
    "    ipaddress.ip_address(url)\n",
    "    ip = 1\n",
    "  except:\n",
    "    ip = 0\n",
    "  return ip"
   ]
  },
  {
   "cell_type": "code",
   "execution_count": 3,
   "id": "3ab220dd",
   "metadata": {},
   "outputs": [],
   "source": [
    "#Checks the presence of @ in URL (Have_At)\n",
    "def haveAtSign(url):\n",
    "  if \"@\" in url:\n",
    "    at = 1    \n",
    "  else:\n",
    "    at = 0    \n",
    "  return at"
   ]
  },
  {
   "cell_type": "code",
   "execution_count": 4,
   "id": "940c4d26",
   "metadata": {},
   "outputs": [],
   "source": [
    "#Finding the length of URL and categorizing (URL_Length)\n",
    "def getLength(url):\n",
    "  if len(url) < 54:\n",
    "    length = 0            \n",
    "  else:\n",
    "    length = 1            \n",
    "  return length"
   ]
  },
  {
   "cell_type": "code",
   "execution_count": 5,
   "id": "3397dcc5",
   "metadata": {},
   "outputs": [],
   "source": [
    "#Gives number of '/' in URL (URL_Depth)\n",
    "def getDepth(url):\n",
    "  s = urlparse(url).path.split('/')\n",
    "  depth = 0\n",
    "  for j in range(len(s)):\n",
    "    if len(s[j]) != 0:\n",
    "      depth = depth+1\n",
    "  return depth"
   ]
  },
  {
   "cell_type": "code",
   "execution_count": 6,
   "id": "53f319a9",
   "metadata": {},
   "outputs": [],
   "source": [
    "#Checking for redirection '//' in the url (Redirection)\n",
    "def redirection(url):\n",
    "  pos = url.rfind('//')\n",
    "  if pos > 6:\n",
    "    if pos > 7:\n",
    "      return 1\n",
    "    else:\n",
    "      return 0\n",
    "  else:\n",
    "    return 0"
   ]
  },
  {
   "cell_type": "code",
   "execution_count": 7,
   "id": "25d6d425",
   "metadata": {},
   "outputs": [],
   "source": [
    "#Existence of “HTTPS” Token in the Domain Part of the URL (https_Domain)\n",
    "def httpDomain(url):\n",
    "  domain = urlparse(url).netloc\n",
    "  if 'https' in domain:\n",
    "    return 1\n",
    "  else:\n",
    "    return 0"
   ]
  },
  {
   "cell_type": "code",
   "execution_count": 8,
   "id": "28e86d4b",
   "metadata": {},
   "outputs": [],
   "source": [
    "#listing shortening services\n",
    "shortening_services = r\"bit\\.ly|goo\\.gl|shorte\\.st|go2l\\.ink|x\\.co|ow\\.ly|t\\.co|tinyurl|tr\\.im|is\\.gd|cli\\.gs|\" \\\n",
    "                      r\"yfrog\\.com|migre\\.me|ff\\.im|tiny\\.cc|url4\\.eu|twit\\.ac|su\\.pr|twurl\\.nl|snipurl\\.com|\" \\\n",
    "                      r\"short\\.to|BudURL\\.com|ping\\.fm|post\\.ly|Just\\.as|bkite\\.com|snipr\\.com|fic\\.kr|loopt\\.us|\" \\\n",
    "                      r\"doiop\\.com|short\\.ie|kl\\.am|wp\\.me|rubyurl\\.com|om\\.ly|to\\.ly|bit\\.do|t\\.co|lnkd\\.in|db\\.tt|\" \\\n",
    "                      r\"qr\\.ae|adf\\.ly|goo\\.gl|bitly\\.com|cur\\.lv|tinyurl\\.com|ow\\.ly|bit\\.ly|ity\\.im|q\\.gs|is\\.gd|\" \\\n",
    "                      r\"po\\.st|bc\\.vc|twitthis\\.com|u\\.to|j\\.mp|buzurl\\.com|cutt\\.us|u\\.bb|yourls\\.org|x\\.co|\" \\\n",
    "                      r\"prettylinkpro\\.com|scrnch\\.me|filoops\\.info|vzturl\\.com|qr\\.net|1url\\.com|tweez\\.me|v\\.gd|\" \\\n",
    "                      r\"tr\\.im|link\\.zip\\.net\""
   ]
  },
  {
   "cell_type": "code",
   "execution_count": 9,
   "id": "bcb2622a",
   "metadata": {},
   "outputs": [],
   "source": [
    "#Checking for Shortening Services in URL (Tiny_URL)\n",
    "def tinyURL(url):\n",
    "    match=re.search(shortening_services,url)\n",
    "    if match:\n",
    "        return 1\n",
    "    else:\n",
    "        return 0"
   ]
  },
  {
   "cell_type": "code",
   "execution_count": 10,
   "id": "9a58221a",
   "metadata": {},
   "outputs": [],
   "source": [
    "#Checking for Prefix or Suffix Separated by (-) in the Domain (Prefix/Suffix)\n",
    "def prefixSuffix(url):\n",
    "    if '-' in urlparse(url).netloc:\n",
    "        return 1            # phishing\n",
    "    else:\n",
    "        return 0   "
   ]
  },
  {
   "cell_type": "code",
   "execution_count": 11,
   "id": "82d48851",
   "metadata": {},
   "outputs": [],
   "source": [
    "#Domain of the URL (Domain) \n",
    "def getDomain(url):  \n",
    "  domain = urlparse(url).netloc\n",
    "  if re.match(r\"^www.\",domain):\n",
    "        domain = domain.replace(\"www.\",\"\")\n",
    "  return domain"
   ]
  },
  {
   "cell_type": "code",
   "execution_count": 12,
   "id": "34e0cd26",
   "metadata": {},
   "outputs": [],
   "source": [
    "url=\"https://scontent.cdninstagram.com/v/t51.2885-19/297198495_454638983187314_7747751120516157897_n.jpg?stp=dst-jpg_s100x100&_nc_cat=108&ccb=1-7&_nc_sid=8ae9d6&_nc_ohc=jISKWZkQlL8AX91hhuU&_nc_ht=scontent.cdninstagram.com&oh=00_AfDTIfJqJ_3iYxwVZBSud-QwGde8jZMoas3VflxTb3kgyQ&oe=6442565B\"    \n",
    "url_value=[]\n",
    "url_value.append(havingIP(url))\n",
    "url_value.append(haveAtSign(url))\n",
    "url_value.append(getLength(url))\n",
    "url_value.append(getDepth(url))\n",
    "url_value.append(redirection(url))\n",
    "url_value.append(httpDomain(url))\n",
    "url_value.append(tinyURL(url))\n",
    "url_value.append(prefixSuffix(url))\n",
    "url_value.append(getDomain(url))"
   ]
  },
  {
   "cell_type": "code",
   "execution_count": 17,
   "id": "b6e7ef79",
   "metadata": {},
   "outputs": [
    {
     "name": "stdout",
     "output_type": "stream",
     "text": [
      "No it is not a phising websites\n"
     ]
    }
   ],
   "source": [
    "cnt=0\n",
    "length=len(url_value)\n",
    "for i in url_value:\n",
    "    if(i==0):\n",
    "        cnt=cnt+1\n",
    "if(cnt>=(length)//2):\n",
    "    print(\"No It is not a phising websites\")\n",
    "else:\n",
    "    print(\"Yes It is a phising websites\")"
   ]
  },
  {
   "cell_type": "code",
   "execution_count": null,
   "id": "6d5a3e43",
   "metadata": {},
   "outputs": [],
   "source": []
  }
 ],
 "metadata": {
  "kernelspec": {
   "display_name": "Python 3 (ipykernel)",
   "language": "python",
   "name": "python3"
  },
  "language_info": {
   "codemirror_mode": {
    "name": "ipython",
    "version": 3
   },
   "file_extension": ".py",
   "mimetype": "text/x-python",
   "name": "python",
   "nbconvert_exporter": "python",
   "pygments_lexer": "ipython3",
   "version": "3.9.13"
  }
 },
 "nbformat": 4,
 "nbformat_minor": 5
}
