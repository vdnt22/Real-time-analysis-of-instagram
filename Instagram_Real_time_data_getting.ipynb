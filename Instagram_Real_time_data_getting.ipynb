{
 "cells": [
  {
   "cell_type": "code",
   "execution_count": null,
   "id": "569950c5",
   "metadata": {},
   "outputs": [],
   "source": [
    "#importing all the libraries\n",
    "import requests\n",
    "import re\n",
    "import json\n",
    "from bs4 import BeautifulSoup\n",
    "import matplotlib.pyplot as plt\n",
    "import numpy as np\n",
    "import seaborn as sns\n",
    "import urllib\n",
    "\n",
    "#set up the connections with the instagram\n",
    "url=\"https://www.instagram.com/username/\"\n",
    "response=requests.get(url)\n",
    "\n",
    "soup=BeautifulSoup(response.content,'html.parser')"
   ]
  },
  {
   "cell_type": "code",
   "execution_count": null,
   "id": "804f44b3",
   "metadata": {},
   "outputs": [],
   "source": [
    "!pip install --upgrade instaloader"
   ]
  },
  {
   "cell_type": "code",
   "execution_count": null,
   "id": "35583eaa",
   "metadata": {},
   "outputs": [],
   "source": [
    "#getting all the links\n",
    "l=soup.find_all('link')\n",
    "all_links=[]\n",
    "for var in l:\n",
    "    print(var.get('href'))\n",
    "    all_links.append(var.get('href'))"
   ]
  },
  {
   "cell_type": "code",
   "execution_count": null,
   "id": "0f5acc99",
   "metadata": {},
   "outputs": [],
   "source": [
    "url='https://www.instagram.com/username/followers/'\n",
    "response=requests.get(url)\n",
    "\n",
    "soup3=BeautifulSoup(response.content,'html.parser')"
   ]
  },
  {
   "cell_type": "code",
   "execution_count": null,
   "id": "19a3d7b9",
   "metadata": {},
   "outputs": [],
   "source": [
    "print(soup3.title)"
   ]
  },
  {
   "cell_type": "code",
   "execution_count": null,
   "id": "e82c2aca",
   "metadata": {},
   "outputs": [],
   "source": [
    "l=soup3.find_all('meta')\n",
    "count=0\n",
    "for var in l:\n",
    "    count=count+1\n",
    "    if(count==7):\n",
    "        total=var.get('content')\n",
    "    if(count==10):\n",
    "        total1=var.get('content')\n",
    "    if(count==15):\n",
    "        prf_url=var.get('content')\n",
    "followers_count=total.split(',')[0]\n",
    "following_count=total.split(',')[1]\n",
    "post_count=total.split(',')[2]\n",
    "\n",
    "#followers\n",
    "print(\"Total Number of Followers \",followers_count)\n",
    "\n",
    "#following\n",
    "print(\"Total Number of Following \",following_count)\n",
    "\n",
    "#post\n",
    "print(\"Total Number of posts \",post_count)\n",
    "\n",
    "#username\n",
    "username=total1.split('?')[1]\n",
    "print(username)\n",
    "\n",
    "#profile image url Link\n",
    "print('Profile image url ',prf_url)"
   ]
  },
  {
   "cell_type": "code",
   "execution_count": null,
   "id": "38e741c5",
   "metadata": {},
   "outputs": [],
   "source": [
    "# Importing Libraries\n",
    "import instaloader\n",
    "import pandas as pd\n",
    "\n",
    "# Get instance\n",
    "loader = instaloader.Instaloader()\n",
    " \n",
    "# Login using the credentials\n",
    "loader.login('username', 'password')\n",
    " \n",
    "# Use Profile class to access metadata of account\n",
    "profile = instaloader.Profile.from_username(loader.context,'username')"
   ]
  },
  {
   "cell_type": "code",
   "execution_count": null,
   "id": "c59de045",
   "metadata": {},
   "outputs": [],
   "source": [
    "#Get the total number of following\n",
    "followers = [follower.username for follower in profile.get_followers()]\n",
    "\n",
    "#total number of followers\n",
    "print(\"Total Number of followeres \",len(followers))\n",
    "\n",
    "#get  the list  of all the followers\n",
    "print(followers)"
   ]
  },
  {
   "cell_type": "code",
   "execution_count": null,
   "id": "932fec29",
   "metadata": {},
   "outputs": [],
   "source": [
    "#get the total number of following\n",
    "following = [followees.username for followees in profile.get_followees()]\n",
    "\n",
    "#total number of following\n",
    "print(\"Total Number  of following \",len(following))\n",
    "\n",
    "#list of all the following\n",
    "print(following)"
   ]
  },
  {
   "cell_type": "code",
   "execution_count": null,
   "id": "e36268a1",
   "metadata": {},
   "outputs": [],
   "source": [
    "#get the total number of following\n",
    "Total_saveposts = profile.get_saved_posts()\n",
    "\n",
    "#list of all the following\n",
    "for save_posts in Total_saveposts:\n",
    "    loader.download_post(save_posts,'username')"
   ]
  },
  {
   "cell_type": "code",
   "execution_count": null,
   "id": "edb09579",
   "metadata": {
    "scrolled": true
   },
   "outputs": [],
   "source": [
    "#getting all the tagged posts of my profiles\n",
    "Total_taggedposts = profile.get_tagged_posts()\n",
    "\n",
    "for tag_posts in Total_taggedposts:\n",
    "    L.download_post(tag_posts,'username')"
   ]
  },
  {
   "cell_type": "code",
   "execution_count": null,
   "id": "06716d3e",
   "metadata": {},
   "outputs": [],
   "source": [
    "#getting the previous stories of my profiles\n",
    "#make sure you should put the instaloader instance rights\n",
    "for story in .get_stories():\n",
    "    # story is a Story object\n",
    "    for item in story.get_items():\n",
    "        # item is a StoryItem object\n",
    "        L.download_storyitem(item, ':stories')"
   ]
  },
  {
   "cell_type": "code",
   "execution_count": null,
   "id": "5b6f3a49",
   "metadata": {},
   "outputs": [],
   "source": [
    "total_comments= profile.get_comments()\n",
    "for comments in total_comments:\n",
    "    L.download_comment(comments,'username')"
   ]
  },
  {
   "cell_type": "code",
   "execution_count": null,
   "id": "13c83857",
   "metadata": {},
   "outputs": [],
   "source": [
    "# Use Profile class to access metadata of account\n",
    "profile = instaloader.Profile.from_username(loader.context,'username')\n",
    "\n",
    "likes = set()\n",
    "print(\"Fetching likes of all posts of profile {}.\".format(profile.username))\n",
    "for post in profile.get_tagged_posts():\n",
    "    print(post)\n",
    "    likes = likes | set(post.get_likes())\n",
    "\n",
    "print(\"Fetching followers of profile {}.\".format(profile.username))\n",
    "followers = set(profile.get_followers())"
   ]
  },
  {
   "cell_type": "code",
   "execution_count": null,
   "id": "98bb5f36",
   "metadata": {},
   "outputs": [],
   "source": [
    "url=\"https://www.instagram.com\"\n",
    "response=requests.get(url)\n",
    "\n",
    "soup=BeautifulSoup(response.content,'html.parser')"
   ]
  },
  {
   "cell_type": "code",
   "execution_count": null,
   "id": "38138fc9",
   "metadata": {},
   "outputs": [],
   "source": [
    "print(soup.find_all('meta'))"
   ]
  },
  {
   "cell_type": "code",
   "execution_count": null,
   "id": "9c958632",
   "metadata": {},
   "outputs": [],
   "source": [
    "import requests\n",
    "from bs4 import BeautifulSoup\n",
    "\n",
    "# Replace this with the URL of the Instagram post you want to extract the video link from\n",
    "url = \"https://www.instagram.com\"\n",
    "\n",
    "# Send an HTTP request to the Instagram post URL and get the response\n",
    "response = requests.get(url)\n",
    "\n",
    "# Parse the HTML content of the Instagram post using Beautiful Soup\n",
    "soup = BeautifulSoup(response.text, 'html.parser')\n",
    "\n",
    "# Find the HTML tag that contains the video link (in this example, it's a <meta> tag with the property \"og:video\")\n",
    "l=soup.find('meta',property='og:url')\n",
    "l1=soup.find('meta',property='og:description')\n",
    "print(\"Video Link is :\",l['content'])\n",
    "\n",
    "#number of likes on the posts\n",
    "print(l1['content'])\n"
   ]
  },
  {
   "cell_type": "code",
   "execution_count": null,
   "id": "a114a018",
   "metadata": {},
   "outputs": [],
   "source": [
    "from instaloader import Instaloader, Profile\n",
    "\n",
    "PROFILE = \"\"\n",
    "\n",
    "L = Instaloader()\n",
    "\n",
    "profile = Profile.from_username(L.context, PROFILE)\n",
    "\n",
    "print(profile.followers)"
   ]
  },
  {
   "cell_type": "code",
   "execution_count": null,
   "id": "dde9fbc1",
   "metadata": {},
   "outputs": [],
   "source": [
    "print(profile.username)"
   ]
  },
  {
   "cell_type": "code",
   "execution_count": null,
   "id": "8cd906a1",
   "metadata": {},
   "outputs": [],
   "source": [
    "print(profile.followees)"
   ]
  },
  {
   "cell_type": "code",
   "execution_count": null,
   "id": "57fdc739",
   "metadata": {},
   "outputs": [],
   "source": [
    "#get the profile_pic_url\n",
    "profile_pic = profile.profile_pic_url\n",
    "print(profile_pic)"
   ]
  },
  {
   "cell_type": "code",
   "execution_count": null,
   "id": "b5516f3e",
   "metadata": {},
   "outputs": [],
   "source": [
    "#check whether the account is private or public\n",
    "private = profile.is_private\n",
    "print(private)"
   ]
  },
  {
   "cell_type": "code",
   "execution_count": null,
   "id": "583659c6",
   "metadata": {},
   "outputs": [],
   "source": [
    "#get the bio of the profiles\n",
    "bio = profile.biography\n",
    "print(bio)"
   ]
  },
  {
   "cell_type": "code",
   "execution_count": null,
   "id": "d7ad2a26",
   "metadata": {},
   "outputs": [],
   "source": [
    "#get the user id of the profile\n",
    "print(\"User id \",profile.userid)"
   ]
  },
  {
   "cell_type": "code",
   "execution_count": null,
   "id": "5caa067e",
   "metadata": {},
   "outputs": [],
   "source": [
    "#get the full name of the user\n",
    "print(profile.full_name)"
   ]
  },
  {
   "cell_type": "code",
   "execution_count": null,
   "id": "811f6fb5",
   "metadata": {},
   "outputs": [],
   "source": [
    "#check is there is any external url links\n",
    "url = profile.external_url\n",
    "print(url)"
   ]
  },
  {
   "cell_type": "code",
   "execution_count": null,
   "id": "0860d795",
   "metadata": {},
   "outputs": [],
   "source": [
    "#plotting the number of followers,non followers,posts\n",
    "data={'Number of Posts':post_count,'Number of Following':followers_count,'Number of Followers':following_count,\n",
    "      }\n",
    "courses = list(data.keys())\n",
    "values = list(data.values())\n",
    "  \n",
    "fig = plt.figure(figsize = (10, 5))\n",
    " \n",
    "# creating the bar plot\n",
    "plt.bar(courses, values, color ='blue',\n",
    "        width = 0.4)\n",
    " \n",
    "plt.xlabel(\"Data\")\n",
    "plt.ylabel(\"Total People\")\n",
    "plt.title(\"Plotting the data\")\n",
    "plt.show()"
   ]
  },
  {
   "cell_type": "code",
   "execution_count": null,
   "id": "9c9e4f3e",
   "metadata": {},
   "outputs": [],
   "source": [
    "# Provide the search query here\n",
    "search_results = instaloader.TopSearchResults(bot.context, 'music')\n",
    "\n",
    "# Iterating over the extracted usernames\n",
    "for username in search_results.get_profiles():\n",
    "    print(username)\n",
    "\n",
    "# Iterating over the extracted hashtags\n",
    "for hashtag in search_results.get_hashtags():\n",
    "    print(hashtag)"
   ]
  },
  {
   "cell_type": "code",
   "execution_count": null,
   "id": "115d6f3f",
   "metadata": {},
   "outputs": [],
   "source": [
    "import instaloader\n",
    "import re\n",
    "\n",
    "# Creating an instance of Instaloader class\n",
    "bot = instaloader.Instaloader()\n",
    "\n",
    "profile = instaloader.Profile.from_username(bot.context, \"\")\n",
    "print(\"Username: \", profile.username)\n",
    "print(\"Bio: \", profile.biography)\n",
    "\n",
    "emails = re.findall(r\"\\b[A-Za-z0-9._%+-]+@[A-Za-z0-9.-]+\\.[A-Z|a-z]{2,}\\b\", profile.biography)\n",
    "print(\"Emails extracted from the bio:\")\n",
    "print(emails)"
   ]
  },
  {
   "cell_type": "code",
   "execution_count": null,
   "id": "8146d093",
   "metadata": {},
   "outputs": [],
   "source": [
    "profile_id=L.check_profile_id(\"\")"
   ]
  },
  {
   "cell_type": "code",
   "execution_count": null,
   "id": "a4014663",
   "metadata": {},
   "outputs": [],
   "source": [
    "print(profile_id)"
   ]
  },
  {
   "cell_type": "code",
   "execution_count": null,
   "id": "5b0bf9a0",
   "metadata": {},
   "outputs": [],
   "source": [
    "from instaloader import Instaloader, Profile\n",
    "\n",
    "PROFILE = \"username of the profiles\"\n",
    "\n",
    "L = Instaloader()\n",
    "\n",
    "profile = Profile.from_username(L.context, PROFILE) \n",
    "\n",
    "post_sorted_by_likes=sorted(profile.get_posts(),key=lambda post:post.likes, reverse= True)\n",
    "for post in post_sorted_by_likes:\n",
    "    L.download_post(post,PROFILE)"
   ]
  },
  {
   "cell_type": "code",
   "execution_count": null,
   "id": "4c3057e7",
   "metadata": {},
   "outputs": [],
   "source": [
    "print(profile.igtvcount)"
   ]
  },
  {
   "cell_type": "code",
   "execution_count": null,
   "id": "81e3db75",
   "metadata": {},
   "outputs": [],
   "source": [
    "url='https://www.instagram.com'\n",
    "response=requests.get(url)\n",
    "\n",
    "soup3=BeautifulSoup(response.content,'html.parser')"
   ]
  },
  {
   "cell_type": "code",
   "execution_count": null,
   "id": "8efa8b6f",
   "metadata": {},
   "outputs": [],
   "source": [
    "print(soup3.find_all('meta'))"
   ]
  },
  {
   "cell_type": "code",
   "execution_count": null,
   "id": "924c99df",
   "metadata": {},
   "outputs": [],
   "source": [
    "#download the posts within the specified date and the time\n",
    "from datetime import datetime\n",
    "from itertools import dropwhile, takewhile\n",
    "\n",
    "import instaloader\n",
    "\n",
    "L = instaloader.Instaloader()\n",
    "\n",
    "posts = instaloader.Profile.from_username(L.context, \"virat.kohli\").get_posts()\n",
    "\n",
    "SINCE = datetime(2022, 5, 1)\n",
    "UNTIL = datetime(2022, 3, 1)\n",
    "\n",
    "for post in takewhile(lambda p: p.date > UNTIL, dropwhile(lambda p: p.date > SINCE, posts)):\n",
    "    print(post.date)\n",
    "    L.download_post(post, \"instagram\")"
   ]
  },
  {
   "cell_type": "code",
   "execution_count": null,
   "id": "02b0961d",
   "metadata": {},
   "outputs": [],
   "source": [
    "from itertools import islice\n",
    "from math import ceil\n",
    "\n",
    "from instaloader import Instaloader, Profile\n",
    "\n",
    "PROFILE = 'virat.kohli'        # profile to download from\n",
    "X_percentage = 10    # percentage of posts that should be downloaded\n",
    "\n",
    "L = Instaloader()\n",
    "\n",
    "profile = Profile.from_username(L.context, PROFILE)\n",
    "posts_sorted_by_likes = sorted(profile.get_posts(),key=lambda p: p.likes + p.comments,reverse=True)\n",
    "\n",
    "for post in islice(posts_sorted_by_likes, ceil(profile.mediacount * X_percentage / 100)):\n",
    "    L.download_post(post, PROFILE)"
   ]
  }
 ],
 "metadata": {
  "kernelspec": {
   "display_name": "Python 3 (ipykernel)",
   "language": "python",
   "name": "python3"
  },
  "language_info": {
   "codemirror_mode": {
    "name": "ipython",
    "version": 3
   },
   "file_extension": ".py",
   "mimetype": "text/x-python",
   "name": "python",
   "nbconvert_exporter": "python",
   "pygments_lexer": "ipython3",
   "version": "3.9.13"
  }
 },
 "nbformat": 4,
 "nbformat_minor": 5
}
